{
  "nbformat": 4,
  "nbformat_minor": 0,
  "metadata": {
    "accelerator": "GPU",
    "colab": {
      "name": "Kaggle_MOA.ipynb",
      "provenance": [],
      "collapsed_sections": [
        "Md5pOZ8Y5eVY",
        "KK0mWeD9AzuL",
        "Q3cUQGTb4-fu",
        "xbQj5zKRfTrd",
        "W-aWM1JnkeUV"
      ],
      "toc_visible": true,
      "authorship_tag": "ABX9TyP8Meaarhx0de6QA0LWXYy+"
    },
    "kernelspec": {
      "display_name": "Python 3",
      "name": "python3"
    }
  },
  "cells": [
    {
      "cell_type": "markdown",
      "metadata": {
        "id": "N__yWi1Y5UCG"
      },
      "source": [
        "# Importing Data and Packages"
      ]
    },
    {
      "cell_type": "code",
      "metadata": {
        "id": "Vm_pV5vpeoG6",
        "outputId": "62310642-34da-4aa0-92c4-eb820a58b6fb",
        "colab": {
          "resources": {
            "http://localhost:8080/nbextensions/google.colab/files.js": {
              "data": "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",
              "ok": true,
              "headers": [
                [
                  "content-type",
                  "application/javascript"
                ]
              ],
              "status": 200,
              "status_text": ""
            }
          },
          "base_uri": "https://localhost:8080/",
          "height": 174
        }
      },
      "source": [
        "from google.colab import files\n",
        "uploaded = files.upload()\n",
        "! unzip train_targets_scored.csv.zip\n",
        "! unzip train_features.csv.zip"
      ],
      "execution_count": null,
      "outputs": [
        {
          "output_type": "display_data",
          "data": {
            "text/html": [
              "\n",
              "     <input type=\"file\" id=\"files-014ab6d0-a73e-4395-ba1f-575228f15a15\" name=\"files[]\" multiple disabled\n",
              "        style=\"border:none\" />\n",
              "     <output id=\"result-014ab6d0-a73e-4395-ba1f-575228f15a15\">\n",
              "      Upload widget is only available when the cell has been executed in the\n",
              "      current browser session. Please rerun this cell to enable.\n",
              "      </output>\n",
              "      <script src=\"/nbextensions/google.colab/files.js\"></script> "
            ],
            "text/plain": [
              "<IPython.core.display.HTML object>"
            ]
          },
          "metadata": {
            "tags": []
          }
        },
        {
          "output_type": "stream",
          "text": [
            "Saving train_features.csv.zip to train_features.csv.zip\n",
            "Saving train_targets_scored.csv.zip to train_targets_scored.csv.zip\n",
            "Archive:  train_targets_scored.csv.zip\n",
            "  inflating: train_targets_scored.csv  \n",
            "Archive:  train_features.csv.zip\n",
            "  inflating: train_features.csv      \n"
          ],
          "name": "stdout"
        }
      ]
    },
    {
      "cell_type": "code",
      "metadata": {
        "id": "0mAo1yHQL23i",
        "outputId": "62fc3c38-afbd-48a5-f583-ec9135ad5536",
        "colab": {
          "resources": {
            "http://localhost:8080/nbextensions/google.colab/files.js": {
              "data": "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",
              "headers": [
                [
                  "content-type",
                  "application/javascript"
                ]
              ],
              "ok": true,
              "status": 200,
              "status_text": ""
            }
          },
          "base_uri": "https://localhost:8080/",
          "height": 106
        }
      },
      "source": [
        "from google.colab import files\n",
        "uploaded = files.upload()\n",
        "! unzip test_features.csv.zip"
      ],
      "execution_count": null,
      "outputs": [
        {
          "output_type": "display_data",
          "data": {
            "text/html": [
              "\n",
              "     <input type=\"file\" id=\"files-2d5c0517-3b6e-459c-acd5-567f801e2a3a\" name=\"files[]\" multiple disabled\n",
              "        style=\"border:none\" />\n",
              "     <output id=\"result-2d5c0517-3b6e-459c-acd5-567f801e2a3a\">\n",
              "      Upload widget is only available when the cell has been executed in the\n",
              "      current browser session. Please rerun this cell to enable.\n",
              "      </output>\n",
              "      <script src=\"/nbextensions/google.colab/files.js\"></script> "
            ],
            "text/plain": [
              "<IPython.core.display.HTML object>"
            ]
          },
          "metadata": {
            "tags": []
          }
        },
        {
          "output_type": "stream",
          "text": [
            "Saving test_features.csv.zip to test_features.csv.zip\n",
            "Archive:  test_features.csv.zip\n",
            "  inflating: test_features.csv       \n"
          ],
          "name": "stdout"
        }
      ]
    },
    {
      "cell_type": "code",
      "metadata": {
        "id": "ahr3oQWTe-iZ"
      },
      "source": [
        "import pandas as pd\n",
        "import seaborn as sns\n",
        "import numpy as np\n",
        "import matplotlib.pyplot as plt"
      ],
      "execution_count": null,
      "outputs": []
    },
    {
      "cell_type": "code",
      "metadata": {
        "id": "LTalTQXA3jvL"
      },
      "source": [
        "X_train = pd.read_csv('train_features.csv')\n",
        "# X_test = pd.read_csv('test_features.csv')"
      ],
      "execution_count": null,
      "outputs": []
    },
    {
      "cell_type": "code",
      "metadata": {
        "id": "PF4jo4rN3_la"
      },
      "source": [
        "y_train = pd.read_csv('train_targets_scored.csv').drop(columns=['sig_id'])"
      ],
      "execution_count": null,
      "outputs": []
    },
    {
      "cell_type": "code",
      "metadata": {
        "id": "km_BGpe3lQLI"
      },
      "source": [
        "def encode_dummies(df):\n",
        "  df['treatment'] = 1*(df.cp_type == 'trt_cp')\n",
        "  df['D1'] = 1*(df.cp_dose == 'D1')\n",
        "  df['cp_time'] = df.cp_time/24\n",
        "  return df.drop(columns = ['sig_id', 'cp_type', 'cp_dose'])"
      ],
      "execution_count": null,
      "outputs": []
    },
    {
      "cell_type": "code",
      "metadata": {
        "id": "_g7Ody49kUZU"
      },
      "source": [
        "X_train = encode_dummies(X_train)\n",
        "# X_test = encode_dummies(X_test)"
      ],
      "execution_count": null,
      "outputs": []
    },
    {
      "cell_type": "code",
      "metadata": {
        "id": "21QFz3ez31EA"
      },
      "source": [
        "gene_list = ['g-'+str(i) for i in range(772)]\n",
        "gene_exp = X_train[gene_list].values\n",
        "# gene_exp_s = gene_exp.T\n",
        "cell_list = ['c-'+str(i) for i in range(100)]\n",
        "cell_via = X_train[cell_list].values"
      ],
      "execution_count": null,
      "outputs": []
    },
    {
      "cell_type": "markdown",
      "metadata": {
        "id": "-16EUQyK5ae_"
      },
      "source": [
        "# Feature Dimension Reduction"
      ]
    },
    {
      "cell_type": "markdown",
      "metadata": {
        "id": "Md5pOZ8Y5eVY"
      },
      "source": [
        "## K-Means Clustering/Kernel PCA"
      ]
    },
    {
      "cell_type": "code",
      "metadata": {
        "id": "AE_oBqO-33Lj"
      },
      "source": [
        "#Gene expressions\n",
        "num_cluster = 10\n",
        "kmeans = KMeans(n_clusters=num_cluster)\n",
        "kmeans.fit(gene_exp_s)\n",
        "knn10 = kmeans.cluster_centers_.T\n",
        "columns = ['cluster'+str(i) for i in range(1, 11)]\n",
        "g_cluster_df = pd.DataFrame(knn10, columns=columns)"
      ],
      "execution_count": null,
      "outputs": []
    },
    {
      "cell_type": "code",
      "metadata": {
        "id": "_kozQUMn_pzy",
        "outputId": "cbf11f3e-0ec8-423f-c3d7-6623c97edd46",
        "colab": {
          "base_uri": "https://localhost:8080/",
          "height": 319
        }
      },
      "source": [
        "#Cluster correlation\n",
        "g_corr = g_cluster_df.corr()\n",
        "mask = np.triu(np.ones_like(g_corr, dtype=bool))\n",
        "cmap = sns.diverging_palette(230, 20, as_cmap=True)\n",
        "sns.heatmap(g_corr,mask=mask, cmap=cmap, square=True)"
      ],
      "execution_count": null,
      "outputs": [
        {
          "output_type": "execute_result",
          "data": {
            "text/plain": [
              "<matplotlib.axes._subplots.AxesSubplot at 0x7fbde0c1ad30>"
            ]
          },
          "metadata": {
            "tags": []
          },
          "execution_count": 8
        },
        {
          "output_type": "display_data",
          "data": {
            "image/png": "[encoded data removed]",
            "text/plain": [
              "<Figure size 432x288 with 2 Axes>"
            ]
          },
          "metadata": {
            "tags": []
          }
        }
      ]
    },
    {
      "cell_type": "code",
      "metadata": {
        "id": "SZfwHrR37EQi"
      },
      "source": [
        "# Compute errors clustering\n",
        "errors = []\n",
        "ks = list(range(1,20,2))\n",
        "ks.extend([30,40, 50])\n",
        "for k in ks:\n",
        "  kmeans = KMeans(n_clusters=k)\n",
        "  kmeans.fit(gene_exp_s)\n",
        "  errors.append(kmeans.inertia_)"
      ],
      "execution_count": null,
      "outputs": []
    },
    {
      "cell_type": "code",
      "metadata": {
        "id": "ZwxOSRzV34cX",
        "outputId": "5a265b3d-57e7-4681-d80e-2211df9ce3b1",
        "colab": {
          "base_uri": "https://localhost:8080/",
          "height": 347
        }
      },
      "source": [
        "# Accuracy of clustering / # of clusters\n",
        "sns.barplot(ks, errors, color = 'g')"
      ],
      "execution_count": null,
      "outputs": [
        {
          "output_type": "stream",
          "text": [
            "/usr/local/lib/python3.6/dist-packages/seaborn/_decorators.py:43: FutureWarning: Pass the following variables as keyword args: x, y. From version 0.12, the only valid positional argument will be `data`, and passing other arguments without an explicit keyword will result in an error or misinterpretation.\n",
            "  FutureWarning\n"
          ],
          "name": "stderr"
        },
        {
          "output_type": "execute_result",
          "data": {
            "text/plain": [
              "<matplotlib.axes._subplots.AxesSubplot at 0x7fc43c080400>"
            ]
          },
          "metadata": {
            "tags": []
          },
          "execution_count": 22
        },
        {
          "output_type": "display_data",
          "data": {
            "image/png": "[encoded data removed]",
            "text/plain": [
              "<Figure size 432x288 with 1 Axes>"
            ]
          },
          "metadata": {
            "tags": []
          }
        }
      ]
    },
    {
      "cell_type": "code",
      "metadata": {
        "id": "LtGJSIIUALQS"
      },
      "source": [
        "# Histogram of each cluster\n",
        "for i in range(len(knn10.T)):\n",
        "  plt.figure()\n",
        "  sns.histplot(knn10.T[i,:])"
      ],
      "execution_count": null,
      "outputs": []
    },
    {
      "cell_type": "markdown",
      "metadata": {
        "id": "Q3cUQGTb4-fu"
      },
      "source": [
        "## PCA"
      ]
    },
    {
      "cell_type": "markdown",
      "metadata": {
        "id": "HV-QnBQC8c4q"
      },
      "source": [
        "### Gene expression"
      ]
    },
    {
      "cell_type": "code",
      "metadata": {
        "id": "Lp77puZD33uH"
      },
      "source": [
        "# First two principal component with five most frequent MoA\n",
        "from sklearn.decomposition import PCA"
      ],
      "execution_count": null,
      "outputs": []
    },
    {
      "cell_type": "code",
      "metadata": {
        "id": "oOGopdx831nV"
      },
      "source": [
        "pca = PCA(n_components=100)\n",
        "gene_pca = pca.fit_transform(gene_exp)\n",
        "num_features = list(range(pca.n_components_))"
      ],
      "execution_count": null,
      "outputs": []
    },
    {
      "cell_type": "code",
      "metadata": {
        "id": "MUjMwMTZ9cnU",
        "outputId": "283498fe-6c2a-4bdf-9186-faf6814fb903",
        "colab": {
          "base_uri": "https://localhost:8080/",
          "height": 352
        }
      },
      "source": [
        "plt.figure()\n",
        "sns.barplot(num_features[:10], pca.explained_variance_ratio_[:10], color='g') \n",
        "plt.title(\"Variance explained by principal components - Gene\")"
      ],
      "execution_count": null,
      "outputs": [
        {
          "output_type": "stream",
          "text": [
            "/usr/local/lib/python3.6/dist-packages/seaborn/_decorators.py:43: FutureWarning: Pass the following variables as keyword args: x, y. From version 0.12, the only valid positional argument will be `data`, and passing other arguments without an explicit keyword will result in an error or misinterpretation.\n",
            "  FutureWarning\n"
          ],
          "name": "stderr"
        },
        {
          "output_type": "execute_result",
          "data": {
            "text/plain": [
              "Text(0.5, 1.0, 'Variance explained by principal components - Gene')"
            ]
          },
          "metadata": {
            "tags": []
          },
          "execution_count": 16
        },
        {
          "output_type": "display_data",
          "data": {
            "image/png": "[encoded data removed]",
            "text/plain": [
              "<Figure size 432x288 with 1 Axes>"
            ]
          },
          "metadata": {
            "tags": []
          }
        }
      ]
    },
    {
      "cell_type": "code",
      "metadata": {
        "id": "8WIR7J_347T0",
        "outputId": "9bfdc342-0545-45f3-d9d6-c2ed9045d5e0",
        "colab": {
          "base_uri": "https://localhost:8080/",
          "height": 374
        }
      },
      "source": [
        "print(\"Gene feature variance explained by first 10 features: \")\n",
        "np.cumsum(pca.explained_variance_ratio_)"
      ],
      "execution_count": null,
      "outputs": [
        {
          "output_type": "stream",
          "text": [
            "Gene feature variance explained by first 10 features: \n"
          ],
          "name": "stdout"
        },
        {
          "output_type": "execute_result",
          "data": {
            "text/plain": [
              "array([0.29734508, 0.34410798, 0.3745819 , 0.40162744, 0.42326748,\n",
              "       0.44320877, 0.46072195, 0.47737419, 0.48957602, 0.50039008,\n",
              "       0.51033589, 0.51953365, 0.52730413, 0.53490378, 0.54224014,\n",
              "       0.54930426, 0.5556887 , 0.56180496, 0.56751931, 0.57271803,\n",
              "       0.57760572, 0.58201957, 0.58627175, 0.59023967, 0.59400911,\n",
              "       0.59756772, 0.60103381, 0.6043896 , 0.60758796, 0.61055268,\n",
              "       0.61344448, 0.61632707, 0.61917555, 0.62190214, 0.62454439,\n",
              "       0.62712589, 0.62964407, 0.63202482, 0.6343794 , 0.63665545,\n",
              "       0.63888125, 0.64103749, 0.64315286, 0.6452375 , 0.64730763,\n",
              "       0.64932988, 0.65133263, 0.65324181, 0.65513226, 0.65697909,\n",
              "       0.65879579, 0.66059988, 0.66233386, 0.66403911, 0.66570992,\n",
              "       0.66736825, 0.66901804, 0.67065242, 0.67228037, 0.6738784 ,\n",
              "       0.67546128, 0.67699347, 0.67850349, 0.68000935, 0.68150051,\n",
              "       0.68298185, 0.68443967, 0.68588809, 0.68730409, 0.68870118,\n",
              "       0.69009364, 0.69147427, 0.69284074, 0.6941968 , 0.69555099,\n",
              "       0.69689135, 0.6982069 , 0.69950833, 0.70080082, 0.70208061,\n",
              "       0.70335635, 0.70461863, 0.70586398, 0.70710526, 0.70833813,\n",
              "       0.70955154, 0.71076048, 0.71196336, 0.71315279, 0.71433651,\n",
              "       0.71550132, 0.71665884, 0.71781447, 0.71895344, 0.72007563,\n",
              "       0.7211965 , 0.72230289, 0.72340482, 0.72448829, 0.72556084])"
            ]
          },
          "metadata": {
            "tags": []
          },
          "execution_count": 40
        }
      ]
    },
    {
      "cell_type": "code",
      "metadata": {
        "id": "GLQXKciZBEjE"
      },
      "source": [
        "# for i in range(5):\n",
        "#   plt.figure()\n",
        "#   plt.scatter(gene_pca[target5[:,i]==1, 0], gene_pca[target5[:,i]==1, 1], c=\"blue\",\n",
        "#               s=20, edgecolor='k')\n",
        "#   plt.scatter(gene_pca[target5[:,i]==0, 0], gene_pca[target5[:,i]==0, 1], c=\"yellow\",\n",
        "#               s=20, edgecolor='k')"
      ],
      "execution_count": null,
      "outputs": []
    },
    {
      "cell_type": "markdown",
      "metadata": {
        "id": "g5RpP80N8hzo"
      },
      "source": [
        "### Cell Viability"
      ]
    },
    {
      "cell_type": "code",
      "metadata": {
        "id": "Tff7mG1yIBoP"
      },
      "source": [
        "pca_cell = PCA(n_components=100)\n",
        "cell_pca_trans = pca_cell.fit_transform(cell_via)\n",
        "num_features = list(range(pca_cell.n_components_))"
      ],
      "execution_count": null,
      "outputs": []
    },
    {
      "cell_type": "code",
      "metadata": {
        "id": "f9Gf97M70cpd"
      },
      "source": [
        "cell_pca = cell_pca_trans[:,:20]"
      ],
      "execution_count": null,
      "outputs": []
    },
    {
      "cell_type": "code",
      "metadata": {
        "id": "r4xR5u409vEQ",
        "outputId": "35803053-9ce0-44e5-cd47-9257871f9845",
        "colab": {
          "base_uri": "https://localhost:8080/",
          "height": 352
        }
      },
      "source": [
        "# plt.figure()\n",
        "# sns.barplot(num_features[:10], pca_cell.explained_variance_ratio_[:10], color='b')\n",
        "# plt.title(\"Variance explained by principal components - Cell\")"
      ],
      "execution_count": null,
      "outputs": [
        {
          "output_type": "stream",
          "text": [
            "/usr/local/lib/python3.6/dist-packages/seaborn/_decorators.py:43: FutureWarning: Pass the following variables as keyword args: x, y. From version 0.12, the only valid positional argument will be `data`, and passing other arguments without an explicit keyword will result in an error or misinterpretation.\n",
            "  FutureWarning\n"
          ],
          "name": "stderr"
        },
        {
          "output_type": "execute_result",
          "data": {
            "text/plain": [
              "Text(0.5, 1.0, 'Variance explained by principal components - Cell')"
            ]
          },
          "metadata": {
            "tags": []
          },
          "execution_count": 24
        },
        {
          "output_type": "display_data",
          "data": {
            "image/png": "[encoded data removed]",
            "text/plain": [
              "<Figure size 432x288 with 1 Axes>"
            ]
          },
          "metadata": {
            "tags": []
          }
        }
      ]
    },
    {
      "cell_type": "code",
      "metadata": {
        "id": "XzUe4PvK39Fd",
        "outputId": "7ef2e03e-27cb-4117-b5c6-23ebf786be3c",
        "colab": {
          "base_uri": "https://localhost:8080/",
          "height": 85
        }
      },
      "source": [
        "# print(\"cell feature variance explained by first 5 principal components\")\n",
        "np.cumsum(pca_cell.explained_variance_ratio_[:20])"
      ],
      "execution_count": null,
      "outputs": [
        {
          "output_type": "execute_result",
          "data": {
            "text/plain": [
              "array([0.84853809, 0.85991709, 0.86788447, 0.87353525, 0.87798324,\n",
              "       0.88176423, 0.88541928, 0.88873555, 0.89181586, 0.8947629 ,\n",
              "       0.89733703, 0.89961654, 0.9017707 , 0.9038773 , 0.90588537,\n",
              "       0.90780431, 0.90969972, 0.91157918, 0.91339223, 0.91518631])"
            ]
          },
          "metadata": {
            "tags": []
          },
          "execution_count": 38
        }
      ]
    },
    {
      "cell_type": "code",
      "metadata": {
        "id": "Ly8_NBgM5TH_"
      },
      "source": [
        "# for i in range(1):\n",
        "#   plt.figure()\n",
        "#   plt.scatter(cell_pca_trans[target5[:,i]==1, 0], cell_pca_trans[target5[:,i]==1, 1], c=\"yellow\",\n",
        "#               s=20, edgecolor='k')\n",
        "#   plt.figure()\n",
        "#   plt.scatter(cell_pca_trans[target5[:,i]==0, 0], cell_pca_trans[target5[:,i]==0, 1], c=\"blue\",\n",
        "#               s=20, edgecolor='k')"
      ],
      "execution_count": null,
      "outputs": []
    },
    {
      "cell_type": "markdown",
      "metadata": {
        "id": "k1GKEfMPfPaA"
      },
      "source": [
        "# Models"
      ]
    },
    {
      "cell_type": "markdown",
      "metadata": {
        "id": "jEGXbomTkZs3"
      },
      "source": [
        "### Data processing - [Run this first]"
      ]
    },
    {
      "cell_type": "code",
      "metadata": {
        "id": "Bvx7JRSjwNKM"
      },
      "source": [
        "from sklearn.model_selection import train_test_split\n",
        "from sklearn.ensemble import RandomForestClassifier\n",
        "from sklearn.decomposition import PCA\n",
        "from sklearn.pipeline import make_pipeline\n",
        "from sklearn.metrics import accuracy_score\n",
        "from sklearn.metrics import log_loss\n",
        "from sklearn.utils import resample\n",
        "from joblib import dump, load\n",
        "from sklearn.ensemble import GradientBoostingClassifier"
      ],
      "execution_count": null,
      "outputs": []
    },
    {
      "cell_type": "code",
      "metadata": {
        "id": "mWqR7g5DdadM"
      },
      "source": [
        "def pca_features(df, var_list, n):\n",
        "  '''\n",
        "  df: dataframe\n",
        "  var_list: variable list to be fitted\n",
        "  n: number of components\n",
        "\n",
        "  return: (fitted PCA model, principal components)\n",
        "  '''\n",
        "  pca = PCA(n_components=n)\n",
        "  pca_features = pca.fit_transform(df[var_list])\n",
        "  return (pca, pca_features)\n",
        "\n",
        "def df_to_array(df, var_list, gene, cell):\n",
        "  '''\n",
        "  return: numpy array with transformed principal components\n",
        "  '''\n",
        "  a = df.drop(columns=var_list).values\n",
        "  a = np.hstack((a, gene, cell))\n",
        "  return a"
      ],
      "execution_count": null,
      "outputs": []
    },
    {
      "cell_type": "code",
      "metadata": {
        "id": "vgB2oHZOY8lF"
      },
      "source": [
        "def pca_transform(X_train_2, X_train_val):\n",
        "  '''\n",
        "  Run PCA on training data and transform both train and test data according to obtained components\n",
        "  \n",
        "  X_train_2: dataframe, training data \n",
        "  X_train_val: dataframe, test/validation data\n",
        "\n",
        "  return: X_train, X_val, y_train, y_val as numpy array\n",
        "  '''\n",
        "\n",
        "  # X_train_2, X_train_val, y_train_2, y_train_val = train_test_split(X_train, y_train, test_size = 0.2, random_state=47)\n",
        "\n",
        "  gene_list = ['g-'+str(i) for i in range(772)]\n",
        "  cell_list = ['c-'+str(i) for i in range(100)]\n",
        "\n",
        "  pca_gene, gene_features = pca_features(X_train_2, gene_list, 100)\n",
        "  pca_cell, cell_features = pca_features(X_train_2, cell_list, 20)\n",
        "\n",
        "  X_train_2 = df_to_array(X_train_2, gene_list+cell_list, gene_features, cell_features)\n",
        "  X_train_val = df_to_array(X_train_val, gene_list+cell_list, pca_gene.transform(X_train_val[gene_list]), pca_cell.transform(X_train_val[cell_list]))\n",
        "\n",
        "  # y_train_2 = y_train_2.values\n",
        "  # y_train_val = y_train_val.values\n",
        "\n",
        "  return X_train_2, X_train_val"
      ],
      "execution_count": null,
      "outputs": []
    },
    {
      "cell_type": "markdown",
      "metadata": {
        "id": "xbQj5zKRfTrd"
      },
      "source": [
        "## I. Random Forests - multilabel"
      ]
    },
    {
      "cell_type": "markdown",
      "metadata": {
        "id": "W-aWM1JnkeUV"
      },
      "source": [
        "### Training"
      ]
    },
    {
      "cell_type": "code",
      "metadata": {
        "id": "pW49RClmjoDy"
      },
      "source": [
        "X_train_2, X_train_val, y_train_2, y_train_val = train_test_split(X_train, y_train, test_size = 0.2, random_state=47)\n",
        "X_train_2, X_val = pca_transform(X_train_2, X_train_val)\n",
        "y_train_2 = y_train_2.values\n",
        "y_train_val = y_train_val.values"
      ],
      "execution_count": null,
      "outputs": []
    },
    {
      "cell_type": "code",
      "metadata": {
        "id": "5QTLgjAneHf0",
        "outputId": "c412759b-5b7c-47bc-8740-77a8e3f1a41f",
        "colab": {
          "base_uri": "https://localhost:8080/"
        }
      },
      "source": [
        "rf = RandomForestClassifier(n_estimators=250, max_depth=30, random_state=47)\n",
        "rf.fit(X_train_2, y_train_2)"
      ],
      "execution_count": null,
      "outputs": [
        {
          "output_type": "execute_result",
          "data": {
            "text/plain": [
              "RandomForestClassifier(bootstrap=True, ccp_alpha=0.0, class_weight=None,\n",
              "                       criterion='gini', max_depth=30, max_features='auto',\n",
              "                       max_leaf_nodes=None, max_samples=None,\n",
              "                       min_impurity_decrease=0.0, min_impurity_split=None,\n",
              "                       min_samples_leaf=1, min_samples_split=2,\n",
              "                       min_weight_fraction_leaf=0.0, n_estimators=250,\n",
              "                       n_jobs=None, oob_score=False, random_state=47, verbose=0,\n",
              "                       warm_start=False)"
            ]
          },
          "metadata": {
            "tags": []
          },
          "execution_count": 26
        }
      ]
    },
    {
      "cell_type": "code",
      "metadata": {
        "id": "e8adzENqBkoC",
        "outputId": "c3720de7-67ea-4929-a4cc-f9b364200a6b",
        "colab": {
          "base_uri": "https://localhost:8080/"
        }
      },
      "source": [
        "y_train_pred = rf.predict_proba(X_train_2)\n",
        "train_loss = []\n",
        "for i in range(len(y_train_pred)):\n",
        "  train_loss.append(log_loss(y_train_2[:,i], y_train_pred[i], labels=[0,1]))\n",
        "print(\"training loss: \", np.mean(train_loss))"
      ],
      "execution_count": null,
      "outputs": [
        {
          "output_type": "stream",
          "text": [
            "training loss:  0.01220559090802985\n"
          ],
          "name": "stdout"
        }
      ]
    },
    {
      "cell_type": "code",
      "metadata": {
        "id": "KBCGoBzT_FlL",
        "outputId": "fa2ac42e-6bac-430a-b0f9-cafed98d3b7e",
        "colab": {
          "base_uri": "https://localhost:8080/"
        }
      },
      "source": [
        "y_val_pred = rf.predict_proba(X_val)\n",
        "val_loss = []\n",
        "for i in range(len(y_val_pred)):\n",
        "  val_loss.append(log_loss(y_train_val[:,i], y_val_pred[i], labels=[0,1]))\n",
        "print(\"validation loss: \", np.mean(val_loss))"
      ],
      "execution_count": null,
      "outputs": [
        {
          "output_type": "stream",
          "text": [
            "validation loss:  0.016499928562774345\n"
          ],
          "name": "stdout"
        }
      ]
    },
    {
      "cell_type": "code",
      "metadata": {
        "id": "lTSO8FnKrCwZ",
        "outputId": "55954d42-34ce-490a-b824-0d399ef65f79",
        "colab": {
          "base_uri": "https://localhost:8080/",
          "height": 34
        }
      },
      "source": [
        "train_pred = rf.predict(X_train_2)"
      ],
      "execution_count": null,
      "outputs": [
        {
          "output_type": "execute_result",
          "data": {
            "text/plain": [
              "[0.5467142557211842, 0.5465043040100777]"
            ]
          },
          "metadata": {
            "tags": []
          },
          "execution_count": 31
        }
      ]
    },
    {
      "cell_type": "code",
      "metadata": {
        "id": "eo3eGmG7-T7e",
        "outputId": "deb016d3-1e9f-48c2-edfa-efc9b0ea6fe0",
        "colab": {
          "base_uri": "https://localhost:8080/",
          "height": 51
        }
      },
      "source": [
        "from sklearn.metrics import accuracy_score\n",
        "\n",
        "print(\"training error: \",accuracy_score(rf.predict(X_train_val), y_train_val))\n",
        "print(\"test error: \",accuracy_score(rf.predict(X_val), y_val))"
      ],
      "execution_count": null,
      "outputs": [
        {
          "output_type": "stream",
          "text": [
            "training error:  0.9982153167812713\n",
            "test error:  0.46063405416754144\n"
          ],
          "name": "stdout"
        }
      ]
    },
    {
      "cell_type": "code",
      "metadata": {
        "id": "GeaUcFB5f2HO",
        "outputId": "30c886a3-b6f8-4c2f-f25e-bf070b75ae39",
        "colab": {
          "base_uri": "https://localhost:8080/"
        }
      },
      "source": [
        "#save model\n",
        "from google.colab import drive\n",
        "drive.mount('/content/drive')\n",
        "\n",
        "from joblib import dump, load\n",
        "dump(rf, './drive/My Drive/Kaggle/rf_200_depth40.joblib') \n",
        "\n",
        "# rf = load('./drive/My Drive/Kaggle/rf_pca_20.joblib')"
      ],
      "execution_count": null,
      "outputs": [
        {
          "output_type": "execute_result",
          "data": {
            "text/plain": [
              "['./drive/My Drive/Kaggle/rf_200_depth40.joblib']"
            ]
          },
          "metadata": {
            "tags": []
          },
          "execution_count": 16
        }
      ]
    },
    {
      "cell_type": "markdown",
      "metadata": {
        "id": "NI2UYqIVrnqk"
      },
      "source": [
        "## II. Gradient Boosting - oneVsRest"
      ]
    },
    {
      "cell_type": "markdown",
      "metadata": {
        "id": "cLMb7iRbFA6y"
      },
      "source": [
        "### Upsampling"
      ]
    },
    {
      "cell_type": "code",
      "metadata": {
        "id": "PFocppuWLywy"
      },
      "source": [
        "def upsample(X, y, i):\n",
        "  '''\n",
        "  upsample positive response in the ith column of y matrix to size 1000\n",
        "  '''\n",
        "  idx1 = np.where(y[:,i]==1)[0]\n",
        "  idx0 = np.where(y[:,i]==0)[0]\n",
        "  up_idx = np.random.choice(idx1, replace = True, size = 1000)\n",
        "  X_upsampled = np.vstack((X[idx0], X[up_idx.T]))\n",
        "  y_upsampled = np.vstack(((y[idx0, i:(i+1)], y[up_idx.T, i:(i+1)])))\n",
        "  \n",
        "  return X_upsampled, y_upsampled[:,0]"
      ],
      "execution_count": null,
      "outputs": []
    },
    {
      "cell_type": "markdown",
      "metadata": {
        "id": "XDlFuwr5Znzn"
      },
      "source": [
        "### Training"
      ]
    },
    {
      "cell_type": "code",
      "metadata": {
        "id": "kw-P7oc6cy-Q"
      },
      "source": [
        "X_train_2, X_train_val, y_train_2, y_train_val = train_test_split(X_train, y_train, test_size = 0.2)\n",
        "X_train_2, X_val = pca_transform(X_train_2, X_train_val)\n",
        "y_train_2 = y_train_2.values\n",
        "y_train_val = y_train_val.values\n",
        "# train_pred_list = np.zeros(y_train_2.shape)\n",
        "# val_pred_list = np.zeros(y_val.shape)"
      ],
      "execution_count": null,
      "outputs": []
    },
    {
      "cell_type": "code",
      "metadata": {
        "id": "b8BM-gLQQ4KT",
        "outputId": "e7a8c6b6-fa57-4d4e-fc6d-185fbc641fe3",
        "colab": {
          "base_uri": "https://localhost:8080/"
        }
      },
      "source": [
        "X_train_2.shape"
      ],
      "execution_count": null,
      "outputs": [
        {
          "output_type": "execute_result",
          "data": {
            "text/plain": [
              "(19051, 63)"
            ]
          },
          "metadata": {
            "tags": []
          },
          "execution_count": 16
        }
      ]
    },
    {
      "cell_type": "code",
      "metadata": {
        "id": "01ohxD2Aforx"
      },
      "source": [
        "# predict each target feature independently\n",
        "gbc = GradientBoostingClassifier(learning_rate=0.01, max_features=40, n_estimators=180)\n",
        "train_loss = []\n",
        "val_loss = []\n",
        "for i in range(y_val.shape[1]):\n",
        "  y_train_one = y_train_2[:,i]\n",
        "  y_val_one = y_val[:,i]\n",
        "\n",
        "  X_train_upsampled, y_train_upsampled = upsample(X_train_2, y_train_2, i)\n",
        "\n",
        "  gbc.fit(X_train_upsampled, y_train_upsampled)\n",
        "  y_train_pred = gbc.predict_proba(X_train_2)\n",
        "  y_val_pred = gbc.predict_proba(X_val)\n",
        "\n",
        "  train_loss.append(log_loss(y_train_one, y_train_pred, labels=[0,1]))\n",
        "  val_loss.append(log_loss(y_val_one, y_val_pred, labels=[0,1]))\n",
        "\n",
        "  # train_pred_list[:,i] = y_train_pred[:,1].T\n",
        "  # val_pred_list[:,i] = y_val_pred[:,1].T"
      ],
      "execution_count": null,
      "outputs": []
    },
    {
      "cell_type": "code",
      "metadata": {
        "id": "NWjyyO27Y7e-",
        "outputId": "d6149040-21f2-4eec-ef06-129c571f2277",
        "colab": {
          "base_uri": "https://localhost:8080/",
          "height": 34
        }
      },
      "source": [
        "# if predict all labels as 0\n",
        "y_zeros = np.zeros(y_train_2.shape)\n",
        "print(\"maximum loss: \", avg_log_loss(y_zeros, y_train_2))"
      ],
      "execution_count": null,
      "outputs": [
        {
          "output_type": "stream",
          "text": [
            "maximum loss:  0.11865233060063858\n"
          ],
          "name": "stdout"
        }
      ]
    },
    {
      "cell_type": "code",
      "metadata": {
        "id": "wvH9XNcVVNCf",
        "outputId": "47097a31-e71f-4892-c06b-ca6c6955334b",
        "colab": {
          "base_uri": "https://localhost:8080/"
        }
      },
      "source": [
        "# With 50 gene exp features, 10 cell via features, 180 estimators, max_features 40\n",
        "print(\"training loss: \", np.mean(np.array(train_loss)))\n",
        "print(\"val loss: \", np.mean(np.array(val_loss)))\n",
        "dump(gbc, './drive/My Drive/Kaggle/bgt_pca_50_n180.joblib') "
      ],
      "execution_count": null,
      "outputs": [
        {
          "output_type": "stream",
          "text": [
            "training loss:  0.03714339238685305\n",
            "val loss:  0.040111082998928405\n"
          ],
          "name": "stdout"
        },
        {
          "output_type": "execute_result",
          "data": {
            "text/plain": [
              "['./drive/My Drive/Kaggle/bgt_pca_50_n180.joblib']"
            ]
          },
          "metadata": {
            "tags": []
          },
          "execution_count": 23
        }
      ]
    },
    {
      "cell_type": "code",
      "metadata": {
        "id": "9DEiabq15q14",
        "outputId": "6b65bc3f-04a9-46c4-e89e-e2668e045f8f",
        "colab": {
          "base_uri": "https://localhost:8080/"
        }
      },
      "source": [
        "# With 50 gene exp features, 10 cell via features, 100 estimators\n",
        "print(\"training loss: \", np.mean(np.array(train_loss)))\n",
        "print(\"val loss: \", np.mean(np.array(val_loss)))\n",
        "from joblib import dump, load\n",
        "dump(gbc, './drive/My Drive/Kaggle/bgt_pca_50_n150.joblib') "
      ],
      "execution_count": null,
      "outputs": [
        {
          "output_type": "stream",
          "text": [
            "training loss:  0.039929273686301704\n",
            "val loss:  0.04259601761439843\n"
          ],
          "name": "stdout"
        },
        {
          "output_type": "execute_result",
          "data": {
            "text/plain": [
              "['./drive/My Drive/Kaggle/bgt_pca_50_n150.joblib']"
            ]
          },
          "metadata": {
            "tags": []
          },
          "execution_count": 20
        }
      ]
    },
    {
      "cell_type": "code",
      "metadata": {
        "id": "XSjUppT59NC6",
        "outputId": "461bdeda-8155-4866-aa93-1213672f1031",
        "colab": {
          "base_uri": "https://localhost:8080/",
          "height": 68
        }
      },
      "source": [
        "# With 50 gene exp features, 10 cell via features, 100 estimators\n",
        "train_loss = np.mean(np.array(train_loss))\n",
        "print(\"training loss: \", np.mean(np.array(train_loss)))\n",
        "print(\"val loss: \", np.mean(np.array(val_loss)))\n",
        "#save model\n",
        "from joblib import dump, load\n",
        "dump(gbc, './drive/My Drive/Kaggle/bgt_pca_50.joblib') "
      ],
      "execution_count": null,
      "outputs": [
        {
          "output_type": "stream",
          "text": [
            "training loss:  0.044857469546382\n",
            "val loss:  0.04683352716023646\n"
          ],
          "name": "stdout"
        },
        {
          "output_type": "execute_result",
          "data": {
            "text/plain": [
              "['./drive/My Drive/Kaggle/bgt_pca_50.joblib']"
            ]
          },
          "metadata": {
            "tags": []
          },
          "execution_count": 35
        }
      ]
    },
    {
      "cell_type": "code",
      "metadata": {
        "id": "5ZLPkRiQbRDH",
        "outputId": "b15cd739-2252-4969-db6b-90eef84a9f17",
        "colab": {
          "base_uri": "https://localhost:8080/",
          "height": 34
        }
      },
      "source": [
        "gbc.set_params(n_estimators = 200)\n",
        "gbc.fit(X_train_2, y_train_2[:,136])\n",
        "y1 = gbc.predict_proba(X_train_2)[:,1:].T\n",
        "avg_log_loss(y1,y_train_2[:,136:137].T)"
      ],
      "execution_count": null,
      "outputs": [
        {
          "output_type": "execute_result",
          "data": {
            "text/plain": [
              "1.1911173214769064"
            ]
          },
          "metadata": {
            "tags": []
          },
          "execution_count": 142
        }
      ]
    },
    {
      "cell_type": "code",
      "metadata": {
        "id": "Rm43yVM-cAtR",
        "outputId": "84c406cf-3d33-47de-9bed-13de0b83ea37",
        "colab": {
          "base_uri": "https://localhost:8080/"
        }
      },
      "source": [
        "np.mean(np.array(train_loss))"
      ],
      "execution_count": null,
      "outputs": [
        {
          "output_type": "execute_result",
          "data": {
            "text/plain": [
              "0.0324880511971256"
            ]
          },
          "metadata": {
            "tags": []
          },
          "execution_count": 33
        }
      ]
    },
    {
      "cell_type": "code",
      "metadata": {
        "id": "Tx6rrbALgxW9",
        "outputId": "6a8a2127-666c-41e4-824e-0d1b776ba2e4",
        "colab": {
          "base_uri": "https://localhost:8080/",
          "height": 51
        }
      },
      "source": [
        "print(\"training loss: \", avg_log_loss(train_pred_list, y_train_2))\n",
        "print(\"validation loss: \", avg_log_loss(val_pred_list, y_val))"
      ],
      "execution_count": null,
      "outputs": [
        {
          "output_type": "stream",
          "text": [
            "training loss:  0.11865233060063858\n",
            "validation loss:  0.11834689143018978\n"
          ],
          "name": "stdout"
        }
      ]
    },
    {
      "cell_type": "markdown",
      "metadata": {
        "id": "sAUgclGVNKEN"
      },
      "source": [
        "### Predictions"
      ]
    },
    {
      "cell_type": "code",
      "metadata": {
        "id": "OvBbReb2NNBH"
      },
      "source": [
        "X_train_2, X_test_2 = pca_transform(X_train, X_test)\n",
        "y_train_2 = y_train.values"
      ],
      "execution_count": null,
      "outputs": []
    },
    {
      "cell_type": "code",
      "metadata": {
        "id": "kTXJPZGljSIn",
        "outputId": "ffb6f12e-a91d-47a4-f270-9d129d68e8cd",
        "colab": {
          "base_uri": "https://localhost:8080/"
        }
      },
      "source": [
        "X_test_2.shape"
      ],
      "execution_count": null,
      "outputs": [
        {
          "output_type": "execute_result",
          "data": {
            "text/plain": [
              "(3982, 63)"
            ]
          },
          "metadata": {
            "tags": []
          },
          "execution_count": 17
        }
      ]
    },
    {
      "cell_type": "code",
      "metadata": {
        "id": "VfRTkEUXO90M"
      },
      "source": [
        "#predict probability\n",
        "gbc = GradientBoostingClassifier(learning_rate=0.01, max_features=40, n_estimators=200)\n",
        "train_loss = []\n",
        "y_test_pred = []\n",
        "for i in range(y_train_2.shape[1]):\n",
        "  y_train_one = y_train_2[:,i]\n",
        "\n",
        "  X_train_upsampled, y_train_upsampled = upsample(X_train_2, y_train_2, i)\n",
        "\n",
        "  gbc.fit(X_train_upsampled, y_train_upsampled)\n",
        "  y_train_pred = gbc.predict_proba(X_train_2)\n",
        "  y_pred = gbc.predict_proba(X_test_2)[:,1]\n",
        "\n",
        "  train_loss.append(log_loss(y_train_one, y_train_pred, labels=[0,1]))\n",
        "  y_test_pred.append(y_pred)\n"
      ],
      "execution_count": null,
      "outputs": []
    },
    {
      "cell_type": "code",
      "metadata": {
        "id": "uFBY5xavaWcU"
      },
      "source": [
        "y_pred = np.array(y_test_pred)\n",
        "y_pred = y_pred.T"
      ],
      "execution_count": null,
      "outputs": []
    },
    {
      "cell_type": "code",
      "metadata": {
        "id": "-TjEoyA0jRAL"
      },
      "source": [
        "#convert to dataframe\n",
        "col = y_train.columns\n",
        "y_pred_df = pd.DataFrame(y_pred, columns = col)\n",
        "sig_id = pd.read_csv('test_features.csv')[['sig_id']]\n",
        "y_pred_df = sig_id.join(y_pred_df)\n",
        "#append sig_id column from X_test"
      ],
      "execution_count": null,
      "outputs": []
    },
    {
      "cell_type": "code",
      "metadata": {
        "id": "DhKng_RWbw-b"
      },
      "source": [
        "y_pred_df.to_csv('moa_predictions.csv')\n",
        "!cp moa_predictions.csv \"./drive/My Drive/Kaggle/\""
      ],
      "execution_count": null,
      "outputs": []
    },
    {
      "cell_type": "markdown",
      "metadata": {
        "id": "GaSz5JxxtuG5"
      },
      "source": [
        "## III. Neural Network"
      ]
    },
    {
      "cell_type": "code",
      "metadata": {
        "id": "-H_OmwqNrs2Z"
      },
      "source": [
        "import torch\n",
        "from torch import nn, optim\n",
        "import torch.nn.functional as F \n",
        "import torch.utils.data as data"
      ],
      "execution_count": null,
      "outputs": []
    },
    {
      "cell_type": "code",
      "metadata": {
        "id": "F-_G0bu8zpLF"
      },
      "source": [
        "X_train_2, X_train_val, y_train_2, y_train_val = train_test_split(X_train, y_train, test_size = 0.1)"
      ],
      "execution_count": null,
      "outputs": []
    },
    {
      "cell_type": "code",
      "metadata": {
        "id": "cOndRX2gxmtq"
      },
      "source": [
        "X_train_nn = torch.from_numpy(X_train_2.to_numpy()) \n",
        "X_val_nn = torch.from_numpy(X_train_val.to_numpy())\n",
        "y_train_nn = torch.from_numpy(y_train_2.to_numpy())\n",
        "y_val_nn = torch.from_numpy(y_train_val.to_numpy())"
      ],
      "execution_count": null,
      "outputs": []
    },
    {
      "cell_type": "code",
      "metadata": {
        "id": "7lE2tS7xzwAv"
      },
      "source": [
        "train_data = data.TensorDataset(X_train_nn, y_train_nn)\n",
        "trainloader = data.DataLoader(train_data, batch_size = 256, shuffle=True)\n",
        "\n",
        "val_data = data.TensorDataset(X_val_nn, y_val_nn)"
      ],
      "execution_count": null,
      "outputs": []
    },
    {
      "cell_type": "code",
      "metadata": {
        "id": "KxfHLQjqwqks"
      },
      "source": [
        "class Net(nn.Module):\n",
        "  \n",
        "  def __init__(self, n_features, drop_rate):\n",
        "    super(Net, self).__init__()\n",
        "    self.linear1 = nn.Linear(n_features, 200)\n",
        "    self.linear2 = nn.Linear(200, 180)\n",
        "    self.linear3 = nn.Linear(180, 150)\n",
        "    self.linear4 = nn.Linear(150, 200)\n",
        "    self.linear5 = nn.Linear(200, 206)\n",
        "\n",
        "  def forward(self, x):\n",
        "    x = F.relu(self.linear1(x))\n",
        "    x = F.dropout(x, p=drop_rate)\n",
        "    x = F.relu(self.linear2(x))\n",
        "    x = F.dropout(x, p=drop_rate)\n",
        "    x = F.relu(self.linear3(x))\n",
        "    x = F.dropout(x, p=drop_rate)\n",
        "    x = F.relu(self.linear4(x))\n",
        "    x = F.dropout(x, p=drop_rate)\n",
        "    x = self.linear5(x)\n",
        "    \n",
        "    return torch.sigmoid(x)"
      ],
      "execution_count": null,
      "outputs": []
    },
    {
      "cell_type": "code",
      "metadata": {
        "id": "oFk1EKoByEwi"
      },
      "source": [
        "drop_rate = 0.18\n",
        "net = Net(X_train_2.shape[1], drop_rate)\n",
        "\n",
        "criterion = nn.BCELoss()\n",
        "optimizer = optim.Adam(net.parameters(), lr=0.0008, weight_decay=1e-5)"
      ],
      "execution_count": null,
      "outputs": []
    },
    {
      "cell_type": "code",
      "metadata": {
        "id": "tdV99YTb0FDW",
        "outputId": "bfe32f14-78eb-4a89-da67-616daeadc5ba",
        "colab": {
          "base_uri": "https://localhost:8080/"
        }
      },
      "source": [
        "training_loss = []\n",
        "validation_loss = []\n",
        "\n",
        "for epoch in range(15):\n",
        "\n",
        "  train_loss = []\n",
        "\n",
        "  for batch in trainloader:\n",
        "\n",
        "    optimizer.zero_grad()\n",
        "\n",
        "    y_pred = net(batch[0].float())\n",
        "    loss = criterion(y_pred, batch[1].float())\n",
        "    loss.backward()\n",
        "    optimizer.step()\n",
        "\n",
        "    train_loss.append(loss.item())\n",
        "\n",
        "  net.eval()\n",
        "  print(\"Epoch\", epoch)\n",
        "  print(\"training loss: \", np.mean(train_loss))\n",
        "  training_loss.append(np.mean(train_loss))\n",
        "  y_val_pred = net(X_val_nn.float())\n",
        "  val_loss = criterion(y_val_pred, y_val_nn.float())\n",
        "  print(\"validation loss: \", val_loss.item())\n",
        "  validation_loss.append(val_loss.item())\n",
        "\n",
        "  # print(\"training accuracy: \", accuracy_score(y_pred, y_train))\n",
        "  # print(\"validation accuracy: \", accuracy_score(y_val_pred, y_val))"
      ],
      "execution_count": null,
      "outputs": [
        {
          "output_type": "stream",
          "text": [
            "Epoch 0\n",
            "training loss:  0.13582685075345494\n",
            "validation loss:  0.025587840005755424\n",
            "Epoch 1\n",
            "training loss:  0.022565548463414114\n",
            "validation loss:  0.02269960753619671\n",
            "Epoch 2\n",
            "training loss:  0.020997207212660993\n",
            "validation loss:  0.02169211208820343\n",
            "Epoch 3\n",
            "training loss:  0.019950788734214648\n",
            "validation loss:  0.02076396532356739\n",
            "Epoch 4\n",
            "training loss:  0.019196691767623026\n",
            "validation loss:  0.020118527114391327\n",
            "Epoch 5\n",
            "training loss:  0.018486340131078447\n",
            "validation loss:  0.019556762650609016\n",
            "Epoch 6\n",
            "training loss:  0.017892313034584124\n",
            "validation loss:  0.01899341307580471\n",
            "Epoch 7\n",
            "training loss:  0.017185219530282275\n",
            "validation loss:  0.018631942570209503\n",
            "Epoch 8\n",
            "training loss:  0.016737801555011953\n",
            "validation loss:  0.018441693857312202\n",
            "Epoch 9\n",
            "training loss:  0.01635598086397208\n",
            "validation loss:  0.018254846334457397\n",
            "Epoch 10\n",
            "training loss:  0.01609796969707878\n",
            "validation loss:  0.018227068707346916\n",
            "Epoch 11\n",
            "training loss:  0.01582391085546641\n",
            "validation loss:  0.01812771148979664\n",
            "Epoch 12\n",
            "training loss:  0.015571872060674997\n",
            "validation loss:  0.018192851915955544\n",
            "Epoch 13\n",
            "training loss:  0.015352273138151282\n",
            "validation loss:  0.01795867271721363\n",
            "Epoch 14\n",
            "training loss:  0.01509096663046096\n",
            "validation loss:  0.018067492172122\n"
          ],
          "name": "stdout"
        }
      ]
    },
    {
      "cell_type": "code",
      "metadata": {
        "id": "nUdZJBKZpx6d",
        "outputId": "ece0d17c-0f57-4601-e3da-9654e0f07876",
        "colab": {
          "base_uri": "https://localhost:8080/"
        }
      },
      "source": [
        "y_pred = y_val_pred.detach().numpy().shape\n",
        "\n",
        "col = y_train.columns\n",
        "y_pred_df = pd.DataFrame(y_pred, columns = col)\n",
        "sig_id = pd.read_csv('test_features.csv')[['sig_id']]\n",
        "y_pred_df = sig_id.join(y_pred_df)"
      ],
      "execution_count": null,
      "outputs": [
        {
          "output_type": "execute_result",
          "data": {
            "text/plain": [
              "(2382, 206)"
            ]
          },
          "metadata": {
            "tags": []
          },
          "execution_count": 55
        }
      ]
    }
  ]
}